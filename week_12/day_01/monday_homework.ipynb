{
 "cells": [
  {
   "cell_type": "markdown",
   "id": "5da3cec9",
   "metadata": {},
   "source": [
    "Question 1"
   ]
  },
  {
   "cell_type": "code",
   "execution_count": 1,
   "id": "255c9f4e",
   "metadata": {},
   "outputs": [
    {
     "data": {
      "text/plain": [
       "['spam', 'ham', 'eggs', 'ham']"
      ]
     },
     "execution_count": 1,
     "metadata": {},
     "output_type": "execute_result"
    }
   ],
   "source": [
    "# Create a list \n",
    "shopping = ['spam', 'ham', 'eggs', 'ham']\n",
    "shopping"
   ]
  },
  {
   "cell_type": "code",
   "execution_count": 2,
   "id": "4ba422cd",
   "metadata": {},
   "outputs": [
    {
     "data": {
      "text/plain": [
       "'ham'"
      ]
     },
     "execution_count": 2,
     "metadata": {},
     "output_type": "execute_result"
    }
   ],
   "source": [
    "# Extract the second element of the list.\n",
    "shopping[1]"
   ]
  },
  {
   "cell_type": "code",
   "execution_count": 4,
   "id": "82b47874",
   "metadata": {},
   "outputs": [
    {
     "data": {
      "text/plain": [
       "['spam', 'ham', 'eggs']"
      ]
     },
     "execution_count": 4,
     "metadata": {},
     "output_type": "execute_result"
    }
   ],
   "source": [
    "#Extract the first to third (inclusive) element of the list.\n",
    "shopping[0:3]"
   ]
  },
  {
   "cell_type": "code",
   "execution_count": 5,
   "id": "640223fc",
   "metadata": {},
   "outputs": [
    {
     "data": {
      "text/plain": [
       "'ham'"
      ]
     },
     "execution_count": 5,
     "metadata": {},
     "output_type": "execute_result"
    }
   ],
   "source": [
    "# Extract only the last element of the list.\n",
    "shopping[-1]"
   ]
  },
  {
   "cell_type": "markdown",
   "id": "f5b6440c",
   "metadata": {},
   "source": [
    "Question 2"
   ]
  },
  {
   "cell_type": "code",
   "execution_count": 10,
   "id": "2df9f75f",
   "metadata": {},
   "outputs": [],
   "source": [
    "# Create a list \n",
    "stops = [\"Croy\", \"Cumbernauld\", \"Falkirk High\", \"Linlithgow\", \"Livingston\", \"Haymarket\"]"
   ]
  },
  {
   "cell_type": "code",
   "execution_count": 11,
   "id": "640a88a1",
   "metadata": {},
   "outputs": [
    {
     "data": {
      "text/plain": [
       "['Croy',\n",
       " 'Cumbernauld',\n",
       " 'Falkirk High',\n",
       " 'Linlithgow',\n",
       " 'Livingston',\n",
       " 'Haymarket',\n",
       " 'Edinburgh Waverley']"
      ]
     },
     "execution_count": 11,
     "metadata": {},
     "output_type": "execute_result"
    }
   ],
   "source": [
    "# Append Edinburgh Waverley\n",
    "stops.append('Edinburgh Waverley')\n",
    "stops"
   ]
  },
  {
   "cell_type": "code",
   "execution_count": 14,
   "id": "93665f18",
   "metadata": {},
   "outputs": [
    {
     "data": {
      "text/plain": [
       "['Queen Street',\n",
       " 'Croy',\n",
       " 'Cumbernauld',\n",
       " 'Falkirk High',\n",
       " 'Linlithgow',\n",
       " 'Livingston',\n",
       " 'Haymarket',\n",
       " 'Edinburgh Waverley']"
      ]
     },
     "execution_count": 14,
     "metadata": {},
     "output_type": "execute_result"
    }
   ],
   "source": [
    "# Add \"Queen Street\" to the start of the list\n",
    "stops.insert(0, 'Queen Street')\n",
    "stops"
   ]
  },
  {
   "cell_type": "code",
   "execution_count": 16,
   "id": "ee3f75fd",
   "metadata": {},
   "outputs": [
    {
     "data": {
      "text/plain": [
       "1"
      ]
     },
     "execution_count": 16,
     "metadata": {},
     "output_type": "execute_result"
    }
   ],
   "source": [
    "# Find out what index \"Croy\" is at in the list\n",
    "stops.index('Croy')"
   ]
  },
  {
   "cell_type": "code",
   "execution_count": 21,
   "id": "175ab191",
   "metadata": {},
   "outputs": [
    {
     "data": {
      "text/plain": [
       "['Queen Street',\n",
       " 'Croy',\n",
       " 'Cumbernauld',\n",
       " 'Falkirk High',\n",
       " 'Polmont',\n",
       " 'Polmont',\n",
       " 'Polmont',\n",
       " 'Linlithgow',\n",
       " 'Livingston',\n",
       " 'Haymarket',\n",
       " 'Edinburgh Waverley']"
      ]
     },
     "execution_count": 21,
     "metadata": {},
     "output_type": "execute_result"
    }
   ],
   "source": [
    "# Add \"Polmont\" at the appropriate point\n",
    "stops.insert(4, 'Polmont')\n",
    "stops"
   ]
  },
  {
   "cell_type": "code",
   "execution_count": 23,
   "id": "a7d2aa70",
   "metadata": {},
   "outputs": [
    {
     "data": {
      "text/plain": [
       "['Queen Street',\n",
       " 'Croy',\n",
       " 'Cumbernauld',\n",
       " 'Falkirk High',\n",
       " 'Polmont',\n",
       " 'Polmont',\n",
       " 'Polmont',\n",
       " 'Linlithgow',\n",
       " 'Livingston',\n",
       " 'Edinburgh Waverley']"
      ]
     },
     "execution_count": 23,
     "metadata": {},
     "output_type": "execute_result"
    }
   ],
   "source": [
    "# Remove \"Haymarket\" \n",
    "stops.remove('Haymarket')\n",
    "stops"
   ]
  },
  {
   "cell_type": "code",
   "execution_count": 26,
   "id": "412aecab",
   "metadata": {},
   "outputs": [
    {
     "data": {
      "text/plain": [
       "[]"
      ]
     },
     "execution_count": 26,
     "metadata": {},
     "output_type": "execute_result"
    }
   ],
   "source": [
    "# Remove all items\n",
    "stops.clear()\n",
    "stops"
   ]
  },
  {
   "cell_type": "markdown",
   "id": "81ed29e9",
   "metadata": {},
   "source": [
    "Question 3"
   ]
  },
  {
   "cell_type": "code",
   "execution_count": 28,
   "id": "2f6989a8",
   "metadata": {},
   "outputs": [
    {
     "data": {
      "text/plain": [
       "{'name': 'Steph', 'age': 31, 'Instructor': True}"
      ]
     },
     "execution_count": 28,
     "metadata": {},
     "output_type": "execute_result"
    }
   ],
   "source": [
    "#Set up dictionary\n",
    "person = {\"name\": \"Steph\", \"age\": 31, \"Instructor\" : True}\n",
    "person"
   ]
  },
  {
   "cell_type": "code",
   "execution_count": 30,
   "id": "088013e0",
   "metadata": {},
   "outputs": [
    {
     "name": "stdout",
     "output_type": "stream",
     "text": [
      "dict_keys(['name', 'age', 'Instructor'])\n"
     ]
    }
   ],
   "source": [
    "# Return the keys from this dictionary\n",
    "print(person.keys())"
   ]
  },
  {
   "cell_type": "code",
   "execution_count": 31,
   "id": "0ce67985",
   "metadata": {},
   "outputs": [
    {
     "name": "stdout",
     "output_type": "stream",
     "text": [
      "dict_values(['Steph', 31, True])\n"
     ]
    }
   ],
   "source": [
    "# Return the values from this dictionary\n",
    "print(person.values())"
   ]
  },
  {
   "cell_type": "code",
   "execution_count": 32,
   "id": "80d4ffc4",
   "metadata": {},
   "outputs": [
    {
     "name": "stdout",
     "output_type": "stream",
     "text": [
      "dict_items([('name', 'Steph'), ('age', 31), ('Instructor', True)])\n"
     ]
    }
   ],
   "source": [
    "# Return the items from this dictionary\n",
    "print(person.items())"
   ]
  },
  {
   "cell_type": "code",
   "execution_count": 34,
   "id": "f769d573",
   "metadata": {},
   "outputs": [
    {
     "data": {
      "text/plain": [
       "'Steph'"
      ]
     },
     "execution_count": 34,
     "metadata": {},
     "output_type": "execute_result"
    }
   ],
   "source": [
    "# Take out only the name from it\n",
    "person['name']"
   ]
  },
  {
   "cell_type": "code",
   "execution_count": 36,
   "id": "df0c374b",
   "metadata": {},
   "outputs": [
    {
     "data": {
      "text/plain": [
       "{'name': 'Steph', 'age': 31, 'Instructor': True, 'email': 'steph@codeclan.com'}"
      ]
     },
     "execution_count": 36,
     "metadata": {},
     "output_type": "execute_result"
    }
   ],
   "source": [
    "# Add a new key:value pair, which adds the email \"steph@codeclan.com\"\n",
    "person.update({'name':'Steph', 'email':'steph@codeclan.com' })\n",
    "person"
   ]
  },
  {
   "cell_type": "code",
   "execution_count": 37,
   "id": "13e52893",
   "metadata": {},
   "outputs": [
    {
     "data": {
      "text/plain": [
       "{'name': 'Steph', 'age': 31, 'email': 'steph@codeclan.com'}"
      ]
     },
     "execution_count": 37,
     "metadata": {},
     "output_type": "execute_result"
    }
   ],
   "source": [
    "# Delete the job description \n",
    "person.pop('Instructor')\n",
    "person"
   ]
  },
  {
   "cell_type": "markdown",
   "id": "709edbdd",
   "metadata": {},
   "source": [
    "Question 4"
   ]
  },
  {
   "cell_type": "code",
   "execution_count": 54,
   "id": "1a2cf071",
   "metadata": {},
   "outputs": [
    {
     "name": "stdout",
     "output_type": "stream",
     "text": [
      "6\n",
      "2\n",
      "2\n",
      "6\n"
     ]
    }
   ],
   "source": [
    "# Print out a list of the even integers\n",
    "numbers = [1, 6, 2, 2, 7, 1, 6, 13, 99, 7]\n",
    "\n",
    "for n in numbers:\n",
    "    if n % 2 == 0:\n",
    "        print(n)"
   ]
  },
  {
   "cell_type": "code",
   "execution_count": 58,
   "id": "8c61f645",
   "metadata": {},
   "outputs": [
    {
     "name": "stdout",
     "output_type": "stream",
     "text": [
      "98\n"
     ]
    }
   ],
   "source": [
    "# Print the difference between the largest and smallest value\n",
    "max_diff = max(numbers) - min(numbers)\n",
    "print(max_diff)"
   ]
  },
  {
   "cell_type": "code",
   "execution_count": 71,
   "id": "917bd16b",
   "metadata": {},
   "outputs": [
    {
     "name": "stdout",
     "output_type": "stream",
     "text": [
      "True\n"
     ]
    }
   ],
   "source": [
    "# Print True if the list contains a 2 next to a 2 somewhere.\n",
    "for x in range(len(numbers) - 1):\n",
    "    if (numbers[x] == 2) and (numbers[x + 1] == 2):\n",
    "        print ('True')\n",
    "            \n",
    "          "
   ]
  },
  {
   "cell_type": "markdown",
   "id": "5dccbc15",
   "metadata": {},
   "source": [
    "Question 5"
   ]
  },
  {
   "cell_type": "code",
   "execution_count": 75,
   "id": "32b52448",
   "metadata": {},
   "outputs": [
    {
     "name": "stdout",
     "output_type": "stream",
     "text": [
      "Woo Python!\n"
     ]
    }
   ],
   "source": [
    "# Write a conditional that takes in two inputs...\n",
    "\n",
    "if python_is_fun == True or python_is_weird == True:\n",
    "    print(\"Woo Python!\")\n",
    "    \n",
    "elif python_is_fun == True and python_is_weird == True:\n",
    "     print(\"Woo Python!\")\n",
    "        \n",
    "else:\n",
    "    print(\"Python is not for me!\")"
   ]
  },
  {
   "cell_type": "markdown",
   "id": "11bf1b7a",
   "metadata": {},
   "source": [
    "Question 6\n"
   ]
  },
  {
   "cell_type": "code",
   "execution_count": 81,
   "id": "12c5ce34",
   "metadata": {},
   "outputs": [
    {
     "ename": "SyntaxError",
     "evalue": "'return' outside function (<ipython-input-81-5635ad9623f9>, line 6)",
     "output_type": "error",
     "traceback": [
      "\u001b[1;36m  File \u001b[1;32m\"<ipython-input-81-5635ad9623f9>\"\u001b[1;36m, line \u001b[1;32m6\u001b[0m\n\u001b[1;33m    return (egg_count)\u001b[0m\n\u001b[1;37m    ^\u001b[0m\n\u001b[1;31mSyntaxError\u001b[0m\u001b[1;31m:\u001b[0m 'return' outside function\n"
     ]
    }
   ],
   "source": [
    "# List of chickens\n",
    "def egg_count(chicken_list):\n",
    "    for chicken in chicken_list:\n",
    "        total_eggs += chicken[\"eggs\"]\n",
    "        chicken[\"eggs\"] = 0\n",
    "\n",
    "return (egg_count)"
   ]
  },
  {
   "cell_type": "code",
   "execution_count": null,
   "id": "f18561c1",
   "metadata": {},
   "outputs": [],
   "source": []
  }
 ],
 "metadata": {
  "kernelspec": {
   "display_name": "Python 3",
   "language": "python",
   "name": "python3"
  },
  "language_info": {
   "codemirror_mode": {
    "name": "ipython",
    "version": 3
   },
   "file_extension": ".py",
   "mimetype": "text/x-python",
   "name": "python",
   "nbconvert_exporter": "python",
   "pygments_lexer": "ipython3",
   "version": "3.8.8"
  },
  "varInspector": {
   "cols": {
    "lenName": 16,
    "lenType": 16,
    "lenVar": 40
   },
   "kernels_config": {
    "python": {
     "delete_cmd_postfix": "",
     "delete_cmd_prefix": "del ",
     "library": "var_list.py",
     "varRefreshCmd": "print(var_dic_list())"
    },
    "r": {
     "delete_cmd_postfix": ") ",
     "delete_cmd_prefix": "rm(",
     "library": "var_list.r",
     "varRefreshCmd": "cat(var_dic_list()) "
    }
   },
   "position": {
    "height": "237.851px",
    "left": "840.333px",
    "right": "20px",
    "top": "115px",
    "width": "430px"
   },
   "types_to_exclude": [
    "module",
    "function",
    "builtin_function_or_method",
    "instance",
    "_Feature"
   ],
   "window_display": false
  }
 },
 "nbformat": 4,
 "nbformat_minor": 5
}
